{
 "cells": [
  {
   "cell_type": "markdown",
   "metadata": {},
   "source": [
    "*Data Cleaning*\n",
    "\n",
    "Now since we have extracted data from the website, it is not cleaned and ready to be analyzed yet. The reviews section will need to be cleaned for punctuations, spellings and other characters."
   ]
  },
  {
   "cell_type": "code",
   "execution_count": 68,
   "metadata": {},
   "outputs": [],
   "source": [
    "#imports\n",
    "\n",
    "import pandas as pd\n",
    "import matplotlib.pyplot as plt\n",
    "import seaborn as sns\n",
    "import os\n",
    "\n",
    "#regex\n",
    "import re"
   ]
  },
  {
   "cell_type": "code",
   "execution_count": 69,
   "metadata": {},
   "outputs": [],
   "source": [
    "#create a dataframe from csv file\n",
    "\n",
    "cwd = os.getcwd()\n",
    "\n",
    "df = pd.read_csv(cwd+\"/BA_reviews.csv\", index_col=0)"
   ]
  },
  {
   "cell_type": "code",
   "execution_count": 70,
   "metadata": {},
   "outputs": [
    {
     "data": {
      "text/html": [
       "<div>\n",
       "<style scoped>\n",
       "    .dataframe tbody tr th:only-of-type {\n",
       "        vertical-align: middle;\n",
       "    }\n",
       "\n",
       "    .dataframe tbody tr th {\n",
       "        vertical-align: top;\n",
       "    }\n",
       "\n",
       "    .dataframe thead th {\n",
       "        text-align: right;\n",
       "    }\n",
       "</style>\n",
       "<table border=\"1\" class=\"dataframe\">\n",
       "  <thead>\n",
       "    <tr style=\"text-align: right;\">\n",
       "      <th></th>\n",
       "      <th>reviews</th>\n",
       "      <th>stars</th>\n",
       "      <th>date</th>\n",
       "      <th>country</th>\n",
       "    </tr>\n",
       "  </thead>\n",
       "  <tbody>\n",
       "    <tr>\n",
       "      <th>0</th>\n",
       "      <td>✅ Trip Verified |   I have never travelled wit...</td>\n",
       "      <td>5.0</td>\n",
       "      <td>14th February 2025</td>\n",
       "      <td>United Kingdom</td>\n",
       "    </tr>\n",
       "    <tr>\n",
       "      <th>1</th>\n",
       "      <td>✅ Trip Verified | Terrible overall, medium ser...</td>\n",
       "      <td>9.0</td>\n",
       "      <td>7th February 2025</td>\n",
       "      <td>Switzerland</td>\n",
       "    </tr>\n",
       "    <tr>\n",
       "      <th>2</th>\n",
       "      <td>✅ Trip Verified |   London Heathrow to Male In...</td>\n",
       "      <td>1.0</td>\n",
       "      <td>1st February 2025</td>\n",
       "      <td>United Kingdom</td>\n",
       "    </tr>\n",
       "    <tr>\n",
       "      <th>3</th>\n",
       "      <td>Not Verified |  Very good flight following an ...</td>\n",
       "      <td>9.0</td>\n",
       "      <td>20th January 2025</td>\n",
       "      <td>United Kingdom</td>\n",
       "    </tr>\n",
       "    <tr>\n",
       "      <th>4</th>\n",
       "      <td>Not Verified |  An hour's delay due to late ar...</td>\n",
       "      <td>9.0</td>\n",
       "      <td>19th January 2025</td>\n",
       "      <td>United Kingdom</td>\n",
       "    </tr>\n",
       "  </tbody>\n",
       "</table>\n",
       "</div>"
      ],
      "text/plain": [
       "                                             reviews  stars  \\\n",
       "0  ✅ Trip Verified |   I have never travelled wit...    5.0   \n",
       "1  ✅ Trip Verified | Terrible overall, medium ser...    9.0   \n",
       "2  ✅ Trip Verified |   London Heathrow to Male In...    1.0   \n",
       "3  Not Verified |  Very good flight following an ...    9.0   \n",
       "4  Not Verified |  An hour's delay due to late ar...    9.0   \n",
       "\n",
       "                 date         country  \n",
       "0  14th February 2025  United Kingdom  \n",
       "1   7th February 2025     Switzerland  \n",
       "2   1st February 2025  United Kingdom  \n",
       "3   20th January 2025  United Kingdom  \n",
       "4   19th January 2025  United Kingdom  "
      ]
     },
     "execution_count": 70,
     "metadata": {},
     "output_type": "execute_result"
    }
   ],
   "source": [
    "df.head()"
   ]
  },
  {
   "cell_type": "code",
   "execution_count": 71,
   "metadata": {},
   "outputs": [
    {
     "data": {
      "text/plain": [
       "0        True\n",
       "1        True\n",
       "2        True\n",
       "3       False\n",
       "4       False\n",
       "        ...  \n",
       "3495    False\n",
       "3496    False\n",
       "3497    False\n",
       "3498    False\n",
       "3499    False\n",
       "Name: verified, Length: 3500, dtype: bool"
      ]
     },
     "execution_count": 71,
     "metadata": {},
     "output_type": "execute_result"
    }
   ],
   "source": [
    "#We will also create a column which mentions if the user is verified or not.\n",
    "\n",
    "df['verified'] = df.reviews.str.contains(\"Trip Verified\")\n",
    "\n",
    "df['verified']"
   ]
  },
  {
   "cell_type": "code",
   "execution_count": 73,
   "metadata": {},
   "outputs": [
    {
     "data": {
      "text/plain": [
       "Index(['reviews', 'stars', 'date', 'country', 'verified'], dtype='object')"
      ]
     },
     "execution_count": 73,
     "metadata": {},
     "output_type": "execute_result"
    }
   ],
   "source": [
    "df.columns"
   ]
  },
  {
   "cell_type": "markdown",
   "metadata": {},
   "source": [
    "*Cleaning Reviews*\n",
    "\n",
    "We will extract the column of reviews into a separate dataframe and clean it for semantic analysis"
   ]
  },
  {
   "cell_type": "code",
   "execution_count": 30,
   "metadata": {},
   "outputs": [
    {
     "name": "stdout",
     "output_type": "stream",
     "text": [
      "Requirement already satisfied: nltk in c:\\users\\shaik\\appdata\\local\\packages\\pythonsoftwarefoundation.python.3.11_qbz5n2kfra8p0\\localcache\\local-packages\\python311\\site-packages (3.9.1)\n",
      "Requirement already satisfied: click in c:\\users\\shaik\\appdata\\local\\packages\\pythonsoftwarefoundation.python.3.11_qbz5n2kfra8p0\\localcache\\local-packages\\python311\\site-packages (from nltk) (8.1.8)\n",
      "Requirement already satisfied: joblib in c:\\users\\shaik\\appdata\\local\\packages\\pythonsoftwarefoundation.python.3.11_qbz5n2kfra8p0\\localcache\\local-packages\\python311\\site-packages (from nltk) (1.4.2)\n",
      "Requirement already satisfied: regex>=2021.8.3 in c:\\users\\shaik\\appdata\\local\\packages\\pythonsoftwarefoundation.python.3.11_qbz5n2kfra8p0\\localcache\\local-packages\\python311\\site-packages (from nltk) (2024.11.6)\n",
      "Requirement already satisfied: tqdm in c:\\users\\shaik\\appdata\\local\\packages\\pythonsoftwarefoundation.python.3.11_qbz5n2kfra8p0\\localcache\\local-packages\\python311\\site-packages (from nltk) (4.67.1)\n",
      "Requirement already satisfied: colorama in c:\\users\\shaik\\appdata\\local\\packages\\pythonsoftwarefoundation.python.3.11_qbz5n2kfra8p0\\localcache\\local-packages\\python311\\site-packages (from click->nltk) (0.4.6)\n",
      "Note: you may need to restart the kernel to use updated packages.\n"
     ]
    }
   ],
   "source": [
    "pip install nltk"
   ]
  },
  {
   "cell_type": "code",
   "execution_count": null,
   "metadata": {},
   "outputs": [
    {
     "name": "stderr",
     "output_type": "stream",
     "text": [
      "[nltk_data] Downloading package wordnet to\n",
      "[nltk_data]     C:\\Users\\shaik\\AppData\\Roaming\\nltk_data...\n",
      "[nltk_data] Downloading package omw-1.4 to\n",
      "[nltk_data]     C:\\Users\\shaik\\AppData\\Roaming\\nltk_data...\n",
      "[nltk_data] Downloading package stopwords to\n",
      "[nltk_data]     C:\\Users\\shaik\\AppData\\Roaming\\nltk_data...\n",
      "[nltk_data]   Unzipping corpora\\stopwords.zip.\n"
     ]
    },
    {
     "data": {
      "text/plain": [
       "True"
      ]
     },
     "execution_count": 2,
     "metadata": {},
     "output_type": "execute_result"
    }
   ],
   "source": [
    "import nltk\n",
    "nltk.download('wordnet')        # For lemmatization\n",
    "nltk.download('omw-1.4')        # WordNet data\n",
    "nltk.download('stopwords')      # Stopwords dataset"
   ]
  },
  {
   "cell_type": "code",
   "execution_count": 74,
   "metadata": {},
   "outputs": [],
   "source": [
    "import pandas as pd\n",
    "import re\n",
    "\n",
    "#for lemmatization of words we will use nltk library\n",
    "from nltk.stem import WordNetLemmatizer\n",
    "from nltk.corpus import stopwords\n",
    "lemma = WordNetLemmatizer()\n",
    "\n",
    "\n",
    "reviews_data = df.reviews.str.strip(\"✅ Trip Verified |\")\n",
    "\n",
    "#create an empty list to collect cleaned data corpus\n",
    "corpus =[]\n",
    "\n",
    "#loop through each review, remove punctuations, small case it, join it and add it to corpus\n",
    "for rev in reviews_data:\n",
    "    rev = re.sub('[^a-zA-Z]',' ', rev)\n",
    "    rev = rev.lower()\n",
    "    rev = rev.split()\n",
    "    rev = [lemma.lemmatize(word) for word in rev if word not in set(stopwords.words(\"english\"))]\n",
    "    rev = \" \".join(rev)\n",
    "    corpus.append(rev)"
   ]
  },
  {
   "cell_type": "code",
   "execution_count": 75,
   "metadata": {},
   "outputs": [],
   "source": [
    "# add the corpus to the original dataframe\n",
    "\n",
    "df['corpus'] = corpus"
   ]
  },
  {
   "cell_type": "code",
   "execution_count": 76,
   "metadata": {},
   "outputs": [
    {
     "data": {
      "text/html": [
       "<div>\n",
       "<style scoped>\n",
       "    .dataframe tbody tr th:only-of-type {\n",
       "        vertical-align: middle;\n",
       "    }\n",
       "\n",
       "    .dataframe tbody tr th {\n",
       "        vertical-align: top;\n",
       "    }\n",
       "\n",
       "    .dataframe thead th {\n",
       "        text-align: right;\n",
       "    }\n",
       "</style>\n",
       "<table border=\"1\" class=\"dataframe\">\n",
       "  <thead>\n",
       "    <tr style=\"text-align: right;\">\n",
       "      <th></th>\n",
       "      <th>reviews</th>\n",
       "      <th>stars</th>\n",
       "      <th>date</th>\n",
       "      <th>country</th>\n",
       "      <th>verified</th>\n",
       "      <th>corpus</th>\n",
       "    </tr>\n",
       "  </thead>\n",
       "  <tbody>\n",
       "    <tr>\n",
       "      <th>0</th>\n",
       "      <td>✅ Trip Verified |   I have never travelled wit...</td>\n",
       "      <td>5.0</td>\n",
       "      <td>14th February 2025</td>\n",
       "      <td>United Kingdom</td>\n",
       "      <td>True</td>\n",
       "      <td>never travelled british airway first time chos...</td>\n",
       "    </tr>\n",
       "    <tr>\n",
       "      <th>1</th>\n",
       "      <td>✅ Trip Verified | Terrible overall, medium ser...</td>\n",
       "      <td>9.0</td>\n",
       "      <td>7th February 2025</td>\n",
       "      <td>Switzerland</td>\n",
       "      <td>True</td>\n",
       "      <td>ble overall medium service flight delayed help...</td>\n",
       "    </tr>\n",
       "    <tr>\n",
       "      <th>2</th>\n",
       "      <td>✅ Trip Verified |   London Heathrow to Male In...</td>\n",
       "      <td>1.0</td>\n",
       "      <td>1st February 2025</td>\n",
       "      <td>United Kingdom</td>\n",
       "      <td>True</td>\n",
       "      <td>london heathrow male new business class ba con...</td>\n",
       "    </tr>\n",
       "    <tr>\n",
       "      <th>3</th>\n",
       "      <td>Not Verified |  Very good flight following an ...</td>\n",
       "      <td>9.0</td>\n",
       "      <td>20th January 2025</td>\n",
       "      <td>United Kingdom</td>\n",
       "      <td>False</td>\n",
       "      <td>verified good flight following equally good fl...</td>\n",
       "    </tr>\n",
       "    <tr>\n",
       "      <th>4</th>\n",
       "      <td>Not Verified |  An hour's delay due to late ar...</td>\n",
       "      <td>9.0</td>\n",
       "      <td>19th January 2025</td>\n",
       "      <td>United Kingdom</td>\n",
       "      <td>False</td>\n",
       "      <td>verified hour delay due late arrival incoming ...</td>\n",
       "    </tr>\n",
       "  </tbody>\n",
       "</table>\n",
       "</div>"
      ],
      "text/plain": [
       "                                             reviews  stars  \\\n",
       "0  ✅ Trip Verified |   I have never travelled wit...    5.0   \n",
       "1  ✅ Trip Verified | Terrible overall, medium ser...    9.0   \n",
       "2  ✅ Trip Verified |   London Heathrow to Male In...    1.0   \n",
       "3  Not Verified |  Very good flight following an ...    9.0   \n",
       "4  Not Verified |  An hour's delay due to late ar...    9.0   \n",
       "\n",
       "                 date         country  verified  \\\n",
       "0  14th February 2025  United Kingdom      True   \n",
       "1   7th February 2025     Switzerland      True   \n",
       "2   1st February 2025  United Kingdom      True   \n",
       "3   20th January 2025  United Kingdom     False   \n",
       "4   19th January 2025  United Kingdom     False   \n",
       "\n",
       "                                              corpus  \n",
       "0  never travelled british airway first time chos...  \n",
       "1  ble overall medium service flight delayed help...  \n",
       "2  london heathrow male new business class ba con...  \n",
       "3  verified good flight following equally good fl...  \n",
       "4  verified hour delay due late arrival incoming ...  "
      ]
     },
     "execution_count": 76,
     "metadata": {},
     "output_type": "execute_result"
    }
   ],
   "source": [
    "df.head()"
   ]
  },
  {
   "cell_type": "code",
   "execution_count": 77,
   "metadata": {},
   "outputs": [
    {
     "data": {
      "text/plain": [
       "Index(['reviews', 'stars', 'date', 'country', 'verified', 'corpus'], dtype='object')"
      ]
     },
     "execution_count": 77,
     "metadata": {},
     "output_type": "execute_result"
    }
   ],
   "source": [
    "df.columns"
   ]
  },
  {
   "cell_type": "code",
   "execution_count": 78,
   "metadata": {},
   "outputs": [
    {
     "data": {
      "text/html": [
       "<div>\n",
       "<style scoped>\n",
       "    .dataframe tbody tr th:only-of-type {\n",
       "        vertical-align: middle;\n",
       "    }\n",
       "\n",
       "    .dataframe tbody tr th {\n",
       "        vertical-align: top;\n",
       "    }\n",
       "\n",
       "    .dataframe thead th {\n",
       "        text-align: right;\n",
       "    }\n",
       "</style>\n",
       "<table border=\"1\" class=\"dataframe\">\n",
       "  <thead>\n",
       "    <tr style=\"text-align: right;\">\n",
       "      <th></th>\n",
       "      <th>reviews</th>\n",
       "      <th>stars</th>\n",
       "      <th>date</th>\n",
       "      <th>country</th>\n",
       "      <th>verified</th>\n",
       "      <th>corpus</th>\n",
       "    </tr>\n",
       "  </thead>\n",
       "  <tbody>\n",
       "    <tr>\n",
       "      <th>0</th>\n",
       "      <td>✅ Trip Verified |   I have never travelled wit...</td>\n",
       "      <td>5.0</td>\n",
       "      <td>14th February 2025</td>\n",
       "      <td>United Kingdom</td>\n",
       "      <td>True</td>\n",
       "      <td>never travelled british airway first time chos...</td>\n",
       "    </tr>\n",
       "    <tr>\n",
       "      <th>1</th>\n",
       "      <td>✅ Trip Verified | Terrible overall, medium ser...</td>\n",
       "      <td>9.0</td>\n",
       "      <td>7th February 2025</td>\n",
       "      <td>Switzerland</td>\n",
       "      <td>True</td>\n",
       "      <td>ble overall medium service flight delayed help...</td>\n",
       "    </tr>\n",
       "    <tr>\n",
       "      <th>2</th>\n",
       "      <td>✅ Trip Verified |   London Heathrow to Male In...</td>\n",
       "      <td>1.0</td>\n",
       "      <td>1st February 2025</td>\n",
       "      <td>United Kingdom</td>\n",
       "      <td>True</td>\n",
       "      <td>london heathrow male new business class ba con...</td>\n",
       "    </tr>\n",
       "    <tr>\n",
       "      <th>3</th>\n",
       "      <td>Not Verified |  Very good flight following an ...</td>\n",
       "      <td>9.0</td>\n",
       "      <td>20th January 2025</td>\n",
       "      <td>United Kingdom</td>\n",
       "      <td>False</td>\n",
       "      <td>verified good flight following equally good fl...</td>\n",
       "    </tr>\n",
       "    <tr>\n",
       "      <th>4</th>\n",
       "      <td>Not Verified |  An hour's delay due to late ar...</td>\n",
       "      <td>9.0</td>\n",
       "      <td>19th January 2025</td>\n",
       "      <td>United Kingdom</td>\n",
       "      <td>False</td>\n",
       "      <td>verified hour delay due late arrival incoming ...</td>\n",
       "    </tr>\n",
       "  </tbody>\n",
       "</table>\n",
       "</div>"
      ],
      "text/plain": [
       "                                             reviews  stars  \\\n",
       "0  ✅ Trip Verified |   I have never travelled wit...    5.0   \n",
       "1  ✅ Trip Verified | Terrible overall, medium ser...    9.0   \n",
       "2  ✅ Trip Verified |   London Heathrow to Male In...    1.0   \n",
       "3  Not Verified |  Very good flight following an ...    9.0   \n",
       "4  Not Verified |  An hour's delay due to late ar...    9.0   \n",
       "\n",
       "                 date         country  verified  \\\n",
       "0  14th February 2025  United Kingdom      True   \n",
       "1   7th February 2025     Switzerland      True   \n",
       "2   1st February 2025  United Kingdom      True   \n",
       "3   20th January 2025  United Kingdom     False   \n",
       "4   19th January 2025  United Kingdom     False   \n",
       "\n",
       "                                              corpus  \n",
       "0  never travelled british airway first time chos...  \n",
       "1  ble overall medium service flight delayed help...  \n",
       "2  london heathrow male new business class ba con...  \n",
       "3  verified good flight following equally good fl...  \n",
       "4  verified hour delay due late arrival incoming ...  "
      ]
     },
     "execution_count": 78,
     "metadata": {},
     "output_type": "execute_result"
    }
   ],
   "source": [
    "df.head()"
   ]
  },
  {
   "cell_type": "markdown",
   "metadata": {},
   "source": [
    "*Cleaning/Fromat date*"
   ]
  },
  {
   "cell_type": "code",
   "execution_count": 79,
   "metadata": {},
   "outputs": [
    {
     "data": {
      "text/plain": [
       "reviews      object\n",
       "stars       float64\n",
       "date         object\n",
       "country      object\n",
       "verified       bool\n",
       "corpus       object\n",
       "dtype: object"
      ]
     },
     "execution_count": 79,
     "metadata": {},
     "output_type": "execute_result"
    }
   ],
   "source": [
    "df.dtypes"
   ]
  },
  {
   "cell_type": "code",
   "execution_count": 83,
   "metadata": {},
   "outputs": [
    {
     "data": {
      "text/plain": [
       "0   2025-02-14\n",
       "1   2025-02-07\n",
       "2   2025-02-01\n",
       "3   2025-01-20\n",
       "4   2025-01-19\n",
       "Name: date, dtype: datetime64[ns]"
      ]
     },
     "execution_count": 83,
     "metadata": {},
     "output_type": "execute_result"
    }
   ],
   "source": [
    "# convert the date to datetime format\n",
    "\n",
    "# Remove ordinal suffixes (st, nd, rd, th)\n",
    "df['date'] = df['date'].apply(lambda x: re.sub(r'(\\d+)(st|nd|rd|th)', r'\\1', x))\n",
    "\n",
    "df['date'] = pd.to_datetime(df['date'], format=\"%d %B %Y\")\n",
    "\n",
    "\n",
    "df.date.head()"
   ]
  },
  {
   "cell_type": "code",
   "execution_count": 103,
   "metadata": {},
   "outputs": [
    {
     "data": {
      "text/html": [
       "<div>\n",
       "<style scoped>\n",
       "    .dataframe tbody tr th:only-of-type {\n",
       "        vertical-align: middle;\n",
       "    }\n",
       "\n",
       "    .dataframe tbody tr th {\n",
       "        vertical-align: top;\n",
       "    }\n",
       "\n",
       "    .dataframe thead th {\n",
       "        text-align: right;\n",
       "    }\n",
       "</style>\n",
       "<table border=\"1\" class=\"dataframe\">\n",
       "  <thead>\n",
       "    <tr style=\"text-align: right;\">\n",
       "      <th></th>\n",
       "      <th>reviews</th>\n",
       "      <th>stars</th>\n",
       "      <th>date</th>\n",
       "      <th>country</th>\n",
       "      <th>verified</th>\n",
       "      <th>corpus</th>\n",
       "    </tr>\n",
       "  </thead>\n",
       "  <tbody>\n",
       "    <tr>\n",
       "      <th>0</th>\n",
       "      <td>✅ Trip Verified |   I have never travelled wit...</td>\n",
       "      <td>5.0</td>\n",
       "      <td>2025-02-14</td>\n",
       "      <td>United Kingdom</td>\n",
       "      <td>True</td>\n",
       "      <td>never travelled british airway first time chos...</td>\n",
       "    </tr>\n",
       "    <tr>\n",
       "      <th>1</th>\n",
       "      <td>✅ Trip Verified | Terrible overall, medium ser...</td>\n",
       "      <td>9.0</td>\n",
       "      <td>2025-02-07</td>\n",
       "      <td>Switzerland</td>\n",
       "      <td>True</td>\n",
       "      <td>ble overall medium service flight delayed help...</td>\n",
       "    </tr>\n",
       "    <tr>\n",
       "      <th>2</th>\n",
       "      <td>✅ Trip Verified |   London Heathrow to Male In...</td>\n",
       "      <td>1.0</td>\n",
       "      <td>2025-02-01</td>\n",
       "      <td>United Kingdom</td>\n",
       "      <td>True</td>\n",
       "      <td>london heathrow male new business class ba con...</td>\n",
       "    </tr>\n",
       "    <tr>\n",
       "      <th>3</th>\n",
       "      <td>Not Verified |  Very good flight following an ...</td>\n",
       "      <td>9.0</td>\n",
       "      <td>2025-01-20</td>\n",
       "      <td>United Kingdom</td>\n",
       "      <td>False</td>\n",
       "      <td>verified good flight following equally good fl...</td>\n",
       "    </tr>\n",
       "    <tr>\n",
       "      <th>4</th>\n",
       "      <td>Not Verified |  An hour's delay due to late ar...</td>\n",
       "      <td>9.0</td>\n",
       "      <td>2025-01-19</td>\n",
       "      <td>United Kingdom</td>\n",
       "      <td>False</td>\n",
       "      <td>verified hour delay due late arrival incoming ...</td>\n",
       "    </tr>\n",
       "  </tbody>\n",
       "</table>\n",
       "</div>"
      ],
      "text/plain": [
       "                                             reviews  stars       date  \\\n",
       "0  ✅ Trip Verified |   I have never travelled wit...    5.0 2025-02-14   \n",
       "1  ✅ Trip Verified | Terrible overall, medium ser...    9.0 2025-02-07   \n",
       "2  ✅ Trip Verified |   London Heathrow to Male In...    1.0 2025-02-01   \n",
       "3  Not Verified |  Very good flight following an ...    9.0 2025-01-20   \n",
       "4  Not Verified |  An hour's delay due to late ar...    9.0 2025-01-19   \n",
       "\n",
       "          country  verified                                             corpus  \n",
       "0  United Kingdom      True  never travelled british airway first time chos...  \n",
       "1     Switzerland      True  ble overall medium service flight delayed help...  \n",
       "2  United Kingdom      True  london heathrow male new business class ba con...  \n",
       "3  United Kingdom     False  verified good flight following equally good fl...  \n",
       "4  United Kingdom     False  verified hour delay due late arrival incoming ...  "
      ]
     },
     "execution_count": 103,
     "metadata": {},
     "output_type": "execute_result"
    }
   ],
   "source": [
    "df.head()"
   ]
  },
  {
   "cell_type": "markdown",
   "metadata": {},
   "source": [
    "*Cleaning ratings with stars*"
   ]
  },
  {
   "cell_type": "code",
   "execution_count": 107,
   "metadata": {},
   "outputs": [],
   "source": [
    "# drop the rows where the value of ratings is None\n",
    "df.drop(df[df.stars == \"None\"].index, axis=0, inplace=True)"
   ]
  },
  {
   "cell_type": "code",
   "execution_count": 108,
   "metadata": {},
   "outputs": [
    {
     "data": {
      "text/plain": [
       "array([ 5.,  9.,  1.,  7.,  2.,  8.,  4., 10.,  3.,  6., nan])"
      ]
     },
     "execution_count": 108,
     "metadata": {},
     "output_type": "execute_result"
    }
   ],
   "source": [
    "#check for unique values\n",
    "df.stars.unique()"
   ]
  },
  {
   "cell_type": "code",
   "execution_count": 109,
   "metadata": {},
   "outputs": [
    {
     "data": {
      "text/plain": [
       "stars\n",
       "1.0     892\n",
       "2.0     407\n",
       "3.0     402\n",
       "8.0     337\n",
       "10.0    277\n",
       "7.0     274\n",
       "9.0     264\n",
       "5.0     244\n",
       "4.0     233\n",
       "6.0     169\n",
       "Name: count, dtype: int64"
      ]
     },
     "execution_count": 109,
     "metadata": {},
     "output_type": "execute_result"
    }
   ],
   "source": [
    "df.stars.value_counts()"
   ]
  },
  {
   "cell_type": "markdown",
   "metadata": {},
   "source": [
    "*Check for Null Values*"
   ]
  },
  {
   "cell_type": "code",
   "execution_count": 110,
   "metadata": {},
   "outputs": [
    {
     "data": {
      "text/plain": [
       "reviews  stars  date   country  verified  corpus\n",
       "False    False  False  False    False     False     3498\n",
       "                       True     False     False        1\n",
       "         True   False  False    False     False        1\n",
       "Name: count, dtype: int64"
      ]
     },
     "execution_count": 110,
     "metadata": {},
     "output_type": "execute_result"
    }
   ],
   "source": [
    "df.isnull().value_counts()"
   ]
  },
  {
   "cell_type": "code",
   "execution_count": 114,
   "metadata": {},
   "outputs": [
    {
     "data": {
      "text/plain": [
       "stars\n",
       "False    3499\n",
       "True        1\n",
       "Name: count, dtype: int64"
      ]
     },
     "execution_count": 114,
     "metadata": {},
     "output_type": "execute_result"
    }
   ],
   "source": [
    "df.stars.isnull().value_counts()"
   ]
  },
  {
   "cell_type": "code",
   "execution_count": 113,
   "metadata": {},
   "outputs": [
    {
     "data": {
      "text/plain": [
       "country\n",
       "False    3499\n",
       "True        1\n",
       "Name: count, dtype: int64"
      ]
     },
     "execution_count": 113,
     "metadata": {},
     "output_type": "execute_result"
    }
   ],
   "source": [
    "df.country.isnull().value_counts()"
   ]
  },
  {
   "cell_type": "code",
   "execution_count": null,
   "metadata": {},
   "outputs": [],
   "source": [
    "#We have two missing values for country. For this we can just remove those two reviews (rows) from the dataframe.\n",
    "#drop the rows using index where the country value is null\n",
    "df.drop(df[df.country.isnull() == True].index, axis=0, inplace=True)"
   ]
  },
  {
   "cell_type": "code",
   "execution_count": 117,
   "metadata": {},
   "outputs": [
    {
     "data": {
      "text/plain": [
       "(3499, 6)"
      ]
     },
     "execution_count": 117,
     "metadata": {},
     "output_type": "execute_result"
    }
   ],
   "source": [
    "df.shape"
   ]
  },
  {
   "cell_type": "code",
   "execution_count": 118,
   "metadata": {},
   "outputs": [
    {
     "data": {
      "text/html": [
       "<div>\n",
       "<style scoped>\n",
       "    .dataframe tbody tr th:only-of-type {\n",
       "        vertical-align: middle;\n",
       "    }\n",
       "\n",
       "    .dataframe tbody tr th {\n",
       "        vertical-align: top;\n",
       "    }\n",
       "\n",
       "    .dataframe thead th {\n",
       "        text-align: right;\n",
       "    }\n",
       "</style>\n",
       "<table border=\"1\" class=\"dataframe\">\n",
       "  <thead>\n",
       "    <tr style=\"text-align: right;\">\n",
       "      <th></th>\n",
       "      <th>reviews</th>\n",
       "      <th>stars</th>\n",
       "      <th>date</th>\n",
       "      <th>country</th>\n",
       "      <th>verified</th>\n",
       "      <th>corpus</th>\n",
       "    </tr>\n",
       "  </thead>\n",
       "  <tbody>\n",
       "    <tr>\n",
       "      <th>0</th>\n",
       "      <td>✅ Trip Verified |   I have never travelled wit...</td>\n",
       "      <td>5.0</td>\n",
       "      <td>2025-02-14</td>\n",
       "      <td>United Kingdom</td>\n",
       "      <td>True</td>\n",
       "      <td>never travelled british airway first time chos...</td>\n",
       "    </tr>\n",
       "    <tr>\n",
       "      <th>1</th>\n",
       "      <td>✅ Trip Verified | Terrible overall, medium ser...</td>\n",
       "      <td>9.0</td>\n",
       "      <td>2025-02-07</td>\n",
       "      <td>Switzerland</td>\n",
       "      <td>True</td>\n",
       "      <td>ble overall medium service flight delayed help...</td>\n",
       "    </tr>\n",
       "    <tr>\n",
       "      <th>2</th>\n",
       "      <td>✅ Trip Verified |   London Heathrow to Male In...</td>\n",
       "      <td>1.0</td>\n",
       "      <td>2025-02-01</td>\n",
       "      <td>United Kingdom</td>\n",
       "      <td>True</td>\n",
       "      <td>london heathrow male new business class ba con...</td>\n",
       "    </tr>\n",
       "    <tr>\n",
       "      <th>3</th>\n",
       "      <td>Not Verified |  Very good flight following an ...</td>\n",
       "      <td>9.0</td>\n",
       "      <td>2025-01-20</td>\n",
       "      <td>United Kingdom</td>\n",
       "      <td>False</td>\n",
       "      <td>verified good flight following equally good fl...</td>\n",
       "    </tr>\n",
       "    <tr>\n",
       "      <th>4</th>\n",
       "      <td>Not Verified |  An hour's delay due to late ar...</td>\n",
       "      <td>9.0</td>\n",
       "      <td>2025-01-19</td>\n",
       "      <td>United Kingdom</td>\n",
       "      <td>False</td>\n",
       "      <td>verified hour delay due late arrival incoming ...</td>\n",
       "    </tr>\n",
       "    <tr>\n",
       "      <th>...</th>\n",
       "      <td>...</td>\n",
       "      <td>...</td>\n",
       "      <td>...</td>\n",
       "      <td>...</td>\n",
       "      <td>...</td>\n",
       "      <td>...</td>\n",
       "    </tr>\n",
       "    <tr>\n",
       "      <th>3494</th>\n",
       "      <td>I travel to and from Singapore on BA in Club w...</td>\n",
       "      <td>9.0</td>\n",
       "      <td>2014-11-20</td>\n",
       "      <td>United Kingdom</td>\n",
       "      <td>False</td>\n",
       "      <td>travel singapore ba club world month first tim...</td>\n",
       "    </tr>\n",
       "    <tr>\n",
       "      <th>3495</th>\n",
       "      <td>First time with BA (a code share flight for JA...</td>\n",
       "      <td>10.0</td>\n",
       "      <td>2014-11-20</td>\n",
       "      <td>Australia</td>\n",
       "      <td>False</td>\n",
       "      <td>first time ba code share flight jal travelled ...</td>\n",
       "    </tr>\n",
       "    <tr>\n",
       "      <th>3496</th>\n",
       "      <td>London Heathrow to Zagreb return in economy. U...</td>\n",
       "      <td>10.0</td>\n",
       "      <td>2014-11-20</td>\n",
       "      <td>United Kingdom</td>\n",
       "      <td>False</td>\n",
       "      <td>london heathrow zagreb return economy used ba ...</td>\n",
       "    </tr>\n",
       "    <tr>\n",
       "      <th>3497</th>\n",
       "      <td>BA16 Singapore to London. B777 World Traveller...</td>\n",
       "      <td>7.0</td>\n",
       "      <td>2014-11-20</td>\n",
       "      <td>Singapore</td>\n",
       "      <td>False</td>\n",
       "      <td>ba singapore london b world traveller cabin on...</td>\n",
       "    </tr>\n",
       "    <tr>\n",
       "      <th>3498</th>\n",
       "      <td>LHR-LCA in Club Europe. The First class lounge...</td>\n",
       "      <td>2.0</td>\n",
       "      <td>2014-11-20</td>\n",
       "      <td>United Kingdom</td>\n",
       "      <td>False</td>\n",
       "      <td>lhr lca club europe first class lounge fairly ...</td>\n",
       "    </tr>\n",
       "  </tbody>\n",
       "</table>\n",
       "<p>3499 rows × 6 columns</p>\n",
       "</div>"
      ],
      "text/plain": [
       "                                                reviews  stars       date  \\\n",
       "0     ✅ Trip Verified |   I have never travelled wit...    5.0 2025-02-14   \n",
       "1     ✅ Trip Verified | Terrible overall, medium ser...    9.0 2025-02-07   \n",
       "2     ✅ Trip Verified |   London Heathrow to Male In...    1.0 2025-02-01   \n",
       "3     Not Verified |  Very good flight following an ...    9.0 2025-01-20   \n",
       "4     Not Verified |  An hour's delay due to late ar...    9.0 2025-01-19   \n",
       "...                                                 ...    ...        ...   \n",
       "3494  I travel to and from Singapore on BA in Club w...    9.0 2014-11-20   \n",
       "3495  First time with BA (a code share flight for JA...   10.0 2014-11-20   \n",
       "3496  London Heathrow to Zagreb return in economy. U...   10.0 2014-11-20   \n",
       "3497  BA16 Singapore to London. B777 World Traveller...    7.0 2014-11-20   \n",
       "3498  LHR-LCA in Club Europe. The First class lounge...    2.0 2014-11-20   \n",
       "\n",
       "             country  verified  \\\n",
       "0     United Kingdom      True   \n",
       "1        Switzerland      True   \n",
       "2     United Kingdom      True   \n",
       "3     United Kingdom     False   \n",
       "4     United Kingdom     False   \n",
       "...              ...       ...   \n",
       "3494  United Kingdom     False   \n",
       "3495       Australia     False   \n",
       "3496  United Kingdom     False   \n",
       "3497       Singapore     False   \n",
       "3498  United Kingdom     False   \n",
       "\n",
       "                                                 corpus  \n",
       "0     never travelled british airway first time chos...  \n",
       "1     ble overall medium service flight delayed help...  \n",
       "2     london heathrow male new business class ba con...  \n",
       "3     verified good flight following equally good fl...  \n",
       "4     verified hour delay due late arrival incoming ...  \n",
       "...                                                 ...  \n",
       "3494  travel singapore ba club world month first tim...  \n",
       "3495  first time ba code share flight jal travelled ...  \n",
       "3496  london heathrow zagreb return economy used ba ...  \n",
       "3497  ba singapore london b world traveller cabin on...  \n",
       "3498  lhr lca club europe first class lounge fairly ...  \n",
       "\n",
       "[3499 rows x 6 columns]"
      ]
     },
     "execution_count": 118,
     "metadata": {},
     "output_type": "execute_result"
    }
   ],
   "source": [
    "#resetting the index\n",
    "df.reset_index(drop=True)"
   ]
  },
  {
   "cell_type": "code",
   "execution_count": 120,
   "metadata": {},
   "outputs": [],
   "source": [
    "# export the cleaned data\n",
    "\n",
    "df.to_csv(cwd + \"/cleaned-BA-reviews.csv\")"
   ]
  }
 ],
 "metadata": {
  "kernelspec": {
   "display_name": "Python 3",
   "language": "python",
   "name": "python3"
  },
  "language_info": {
   "codemirror_mode": {
    "name": "ipython",
    "version": 3
   },
   "file_extension": ".py",
   "mimetype": "text/x-python",
   "name": "python",
   "nbconvert_exporter": "python",
   "pygments_lexer": "ipython3",
   "version": "3.11.9"
  }
 },
 "nbformat": 4,
 "nbformat_minor": 2
}
